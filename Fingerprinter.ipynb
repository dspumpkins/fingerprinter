{
  "nbformat": 4,
  "nbformat_minor": 0,
  "metadata": {
    "colab": {
      "provenance": []
    },
    "kernelspec": {
      "name": "python3",
      "display_name": "Python 3"
    },
    "language_info": {
      "name": "python"
    }
  },
  "cells": [
    {
      "cell_type": "markdown",
      "source": [
        "#Fingerprinter.ipynb v1.0"
      ],
      "metadata": {
        "id": "UIsaUwEFwBkv"
      }
    },
    {
      "cell_type": "markdown",
      "source": [
        "#What is this?\n",
        "This is a computer program that takes the \"fingerprint\" of a text file that you give it. The purpose is to make it easier to spot tampering. A tiny change in the text will cause the fingerprint to be obviously different.\n",
        "\n",
        "#How do I use this on a desktop?\n",
        "1. Save your document as a .txt file - for example in Google Docs, go to File > Download > Plain text (.txt)\n",
        "2. Upload your .txt file by clicking the folder icon to the left, then the upload icon.  \n",
        "3. Hover your mouse just to the left of the cell containing \"!pip install...\" You should see a \"play\" icon. Click this. Some setup happens automatically for a couple of minutes.\n",
        "4. Do the same thing in the next cell. Nothing will happen except you should see a little green check mark in a few seconds. This is more automatic setup.\n",
        "5. In the next cell, set the `input_path` to the name of the file you uploaded.\n",
        "6. Now click the play icon to the left of the cell you just edited.\n",
        "7. You should see a message containing the fingerprint.\n",
        "8. Copy-paste that output message into the end of your document.\n",
        "9. If you make revisions to your document, don't worry about removing the fingerprint before repeating the above steps - however, the result of this script will change, so you'll need to overwrite the old fingerprint with the updated one.\n",
        "\n",
        "#What about a mobile device?\n",
        "1. It is basically the same as above, but more awkward. Chrome on an ipad should work ok.\n",
        "\n",
        "#Is it perfect?\n",
        "No. Some text changes will not register and the fingerprint won't change; this is on purpose because sometimes web browsers make small changes when copy-pasting text between various apps, and we do not want those to confuse us. It ignores the numbers in numbered lists. Plus whatever bugs I'm unaware of. But as long as we run the same version of the script, we'll get the same answer for the same input.\n",
        "\n",
        "#This code is doing lots of substitutions of special characters. What if I have math equations, e.g. an accounting formula, in my document?\n",
        "In that case it is better to make the equation in something like Microsoft Equation Editor, take a screenshot, upload it to a draft of your reddit post, then download it (reddit does some image processing that usually changes the fingerprint of whatever image you upload), then use this script to take the hash of all those equation images, and add those hashes to your main document as image captions using the reddit post editor. See the `process_directory` function in the code below."
      ],
      "metadata": {
        "id": "qPX-YBdno4NJ"
      }
    },
    {
      "cell_type": "code",
      "execution_count": null,
      "metadata": {
        "id": "Asa7p-OH7XYJ"
      },
      "outputs": [],
      "source": [
        "!pip install python-docx odfpy beautifulsoup4 pillow striprtf"
      ]
    },
    {
      "cell_type": "code",
      "source": [
        "import os\n",
        "import sys\n",
        "import hashlib\n",
        "import re\n",
        "from pathlib import Path\n",
        "from docx import Document\n",
        "from lxml import etree\n",
        "from odf.opendocument import load as load_odt\n",
        "from odf.text import P, H, Span, List, ListItem, Note, NoteBody\n",
        "from odf.element import Text\n",
        "from bs4 import BeautifulSoup\n",
        "from PIL import Image\n",
        "from striprtf.striprtf import rtf_to_text\n",
        "\n",
        "VERSION = \"1.0\"\n",
        "\n",
        "# Function to read a txt file\n",
        "def read_txt(file_path):\n",
        "    with open(file_path, 'r', encoding='utf-8-sig') as file:\n",
        "        text = file.read()\n",
        "    return text\n",
        "\n",
        "# Function to normalize text\n",
        "def normalize_text(text):\n",
        "    # Remove item numbers from numbered lists\n",
        "    text = re.sub(r'^\\s*\\d+\\.\\s+', '', text, flags=re.MULTILINE)\n",
        "\n",
        "    # Remove leading and trailing whitespace\n",
        "    text = text.strip()\n",
        "\n",
        "    # Define ligature replacements\n",
        "    ligature_map = {\n",
        "        'ﬁ': 'fi', 'ﬂ': 'fl', 'ﬃ': 'ffi', 'ﬄ': 'ffl', 'ﬀ': 'ff', 'æ': 'ae', 'œ': 'oe'\n",
        "    }\n",
        "    for ligature, replacement in ligature_map.items():\n",
        "        text = text.replace(ligature, replacement)\n",
        "\n",
        "    # Define confusable symbol replacements\n",
        "    confusables_map = {\n",
        "        '“': '\"', '”': '\"', '‘': \"'\", '’': \"'\", '–': '-', '—': '-', '…': '...',\n",
        "        ' ': ' ', '−': '-', '×': 'x', '·': '.', '«': '\"', '»': '\"', '„': '\"',\n",
        "        '©': '(C)', '®': '(R)', '™': '(TM)'\n",
        "    }\n",
        "    for symbol, replacement in confusables_map.items():\n",
        "        text = text.replace(symbol, replacement)\n",
        "\n",
        "    # Remove all whitespaces, newlines, carriage returns\n",
        "    text = re.sub(r'\\s+', '', text)\n",
        "\n",
        "    return text\n",
        "\n",
        "\n",
        "# Function to compute SHA-256 checksum\n",
        "def compute_sha256(data):\n",
        "    sha256 = hashlib.sha256()\n",
        "    sha256.update(data.encode('utf-8'))\n",
        "    return sha256.hexdigest()\n",
        "\n",
        "# Function to process input file\n",
        "def process_file(file_path):\n",
        "    ext = file_path.suffix.lower()\n",
        "    if ext == '.txt':\n",
        "        text = read_txt(file_path)\n",
        "    else:\n",
        "        raise ValueError(f\"Unsupported file format: {ext}\")\n",
        "\n",
        "    #print(f\"### Printing `text` ###\")\n",
        "    #print(text)\n",
        "    #print(\"### Done printing `text` ###\")\n",
        "\n",
        "    # Split the text to ignore the message and below\n",
        "    start_ignore_marker = \"---------(Fingerprinter script should ignore the following!)-----------\"\n",
        "    stop_ignore_marker = \"---------(Stop ignoring now)-----------\"\n",
        "\n",
        "    parts = text.split(start_ignore_marker, 1)\n",
        "    if len(parts) > 1:\n",
        "        #print(f\"### Printing `parts[0]` ###\")\n",
        "        #print(parts[0])\n",
        "        #print(\"### Done printing `parts[0]` ###\")\n",
        "        #print(f\"### Printing `parts[1]` ###\")\n",
        "        #print(parts[1])\n",
        "        #print(\"### Done printing `parts[1]` ###\")\n",
        "\n",
        "        parts_ignored = parts[1].split(stop_ignore_marker, 1)\n",
        "        if len(parts_ignored) > 1:\n",
        "            text_to_normalize = parts[0] + parts_ignored[1]\n",
        "        else:\n",
        "            text_to_normalize = parts[0]\n",
        "    else:\n",
        "        text_to_normalize = text\n",
        "\n",
        "    #print(text_to_normalize)\n",
        "    #print(\"### Done printing `text_to_normalize`###\")\n",
        "\n",
        "    normalized_text = normalize_text(text_to_normalize)\n",
        "    checksum = compute_sha256(normalized_text)\n",
        "    message = f\"\"\"---------(Fingerprinter script should ignore the following!)-----------\n",
        "The fingerprint (SHA-256 checksum) of the above text (with whitespace, special characters, and this message removed) is:\n",
        "{checksum}\n",
        "(Generated by Fingerprinter.ipynb version {VERSION})\n",
        "https://colab.research.google.com/drive/1nPrdk4w_sl6zjJVWP-DS7HKIyuIth6KN?usp=sharing\n",
        "---------(Stop ignoring now)-----------\"\"\"\n",
        "    print(message)\n",
        "\n",
        "\n",
        "# Function to process directory of .webp files\n",
        "def process_directory(directory_path):\n",
        "    for file_path in directory_path.glob('*.webp'):\n",
        "        with open(file_path, 'rb') as file:\n",
        "            data = file.read()\n",
        "            checksum = hashlib.sha256(data).hexdigest()\n",
        "            print(f\"SHA-256 checksum for {file_path}: {checksum}\")\n",
        "\n"
      ],
      "metadata": {
        "id": "NPk7PNqg7exi"
      },
      "execution_count": 131,
      "outputs": []
    },
    {
      "cell_type": "code",
      "source": [
        "input_path = \"Replace me with the name of your file.txt\"\n",
        "\n",
        "input_path = Path(input_path)\n",
        "if input_path.is_file():\n",
        "    process_file(input_path)\n",
        "elif input_path.is_dir():\n",
        "    process_directory(input_path)\n",
        "else:\n",
        "    raise ValueError(f\"Invalid input path: {input_path}\")"
      ],
      "metadata": {
        "id": "2IkqhBZS7pvt"
      },
      "execution_count": null,
      "outputs": []
    }
  ]
}
